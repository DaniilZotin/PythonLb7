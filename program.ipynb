{
 "cells": [
  {
   "cell_type": "code",
   "execution_count": null,
   "id": "6e937f22-f0cc-4ff0-b49d-0a97aab5aeeb",
   "metadata": {},
   "outputs": [],
   "source": [
    "1. Створити програму для генерації довільного масиву із 44 цілих чисел, які не перевищують по\n",
    "модулю 99, з наступними властивостями:\n",
    "1.1. При кожному запуску програми масив повинен бути різним.\n",
    "1.2. Масив повинен містити від 3 до 4 максимальних (однакових) елементів.\n",
    "1.3. Масив повинен містити 30 відсотків додатних елементів (розташованих в довільних місцях)"
   ]
  },
  {
   "cell_type": "code",
   "execution_count": 1,
   "id": "8abe6ff3-6446-4e62-b7f0-874d65cc8ee5",
   "metadata": {},
   "outputs": [
    {
     "name": "stdout",
     "output_type": "stream",
     "text": [
      "[88, -17, -3, 30, 48, 85, 50, 85, 14, 31, 78, 89, 89, 2, -54, 60, -81, 18, -44, 85, 71, 57, 85, 57, 72, 80, 22, 51, 78, 2, 93, -4, 41, 62, 96, 61, 4, 80, 67, -43, 82, 53, -57, -52]\n"
     ]
    }
   ],
   "source": [
    "import random\n",
    "\n",
    "def generate_array():\n",
    "    array_size = 44\n",
    "    max_element_count = random.randint(3, 4)\n",
    "    positive_element_count = int(0.3 * array_size)\n",
    "\n",
    "    # Генерація унікальних чисел для масиву\n",
    "    unique_numbers = list(range(-99, 100))\n",
    "    random.shuffle(unique_numbers)\n",
    "\n",
    "    # Визначення максимальних елементів\n",
    "    max_elements = unique_numbers[:max_element_count]\n",
    "\n",
    "    # Заповнення масиву відповідно до умов\n",
    "    result_array = []\n",
    "    for i in range(array_size):\n",
    "        if i < positive_element_count:\n",
    "            # Додаємо додатні елементи\n",
    "            result_array.append(random.choice(range(1, 100)))\n",
    "        elif i < array_size - max_element_count:\n",
    "            # Додаємо унікальні елементи\n",
    "            result_array.append(unique_numbers[i - positive_element_count])\n",
    "        else:\n",
    "            # Додаємо максимальні елементи\n",
    "            result_array.append(random.choice(max_elements))\n",
    "\n",
    "    # Перемішуємо масив\n",
    "    random.shuffle(result_array)\n",
    "\n",
    "    return result_array\n",
    "\n",
    "# Приклад використання\n",
    "generated_array = generate_array()\n",
    "print(generated_array)"
   ]
  },
  {
   "cell_type": "code",
   "execution_count": null,
   "id": "a0164ba4-b21b-4e70-8c06-98badac0dcfa",
   "metadata": {},
   "outputs": [],
   "source": [
    "2. Зберегти згенерований масив в файл."
   ]
  },
  {
   "cell_type": "code",
   "execution_count": 2,
   "id": "a9095914-99f4-4ce1-aa05-5b24b9e98a7e",
   "metadata": {},
   "outputs": [
    {
     "name": "stdout",
     "output_type": "stream",
     "text": [
      "File has been created\n"
     ]
    }
   ],
   "source": [
    "import json\n",
    "\n",
    "def save_array_to_file(array, filename):\n",
    "    with open(filename, 'w') as file:\n",
    "        json.dump(array, file)\n",
    "        print(\"File has been created\")\n",
    "\n",
    "# Приклад використання\n",
    "generated_array = generate_array()\n",
    "save_array_to_file(generated_array, 'generated_array.json')"
   ]
  },
  {
   "cell_type": "code",
   "execution_count": null,
   "id": "31765932-ad33-4ae1-a8fe-25ffb2b9458b",
   "metadata": {},
   "outputs": [],
   "source": [
    "3. Створити програму, яка зчитує із файлу згенерований масив попередньою програмою і виводить\n",
    "його на екран."
   ]
  },
  {
   "cell_type": "code",
   "execution_count": 3,
   "id": "50b21f31-64b1-4e9f-89b3-3e34e27008ac",
   "metadata": {},
   "outputs": [
    {
     "name": "stdout",
     "output_type": "stream",
     "text": [
      "[-54, -60, -70, -12, 73, 62, 61, 22, 25, 75, 81, -50, -19, 98, -50, -61, 52, -41, 73, 21, 43, -50, 14, 11, 6, 83, -78, -71, -71, 69, 28, -71, 27, 91, -2, 47, -17, 12, 43, 96, -69, 3, 15, -26]\n"
     ]
    }
   ],
   "source": [
    "import json\n",
    "\n",
    "def load_array_from_file(filename):\n",
    "    with open(filename, 'r') as file:\n",
    "        array = json.load(file)\n",
    "    return array\n",
    "\n",
    "# Приклад використання\n",
    "loaded_array = load_array_from_file('generated_array.json')\n",
    "print(loaded_array)"
   ]
  },
  {
   "cell_type": "code",
   "execution_count": null,
   "id": "cd1dd54a-728f-4cb9-a1aa-8f44dd0706e2",
   "metadata": {},
   "outputs": [],
   "source": [
    "4. Візуалізувати масив за допомогою стовпчастої горизонтальної діаграми. Виділити кольором\n",
    "максимальні елементи, а також вказати ці значення на діаграмі. Виділити іншим кольором додатні\n",
    "елементи."
   ]
  },
  {
   "cell_type": "code",
   "execution_count": 8,
   "id": "b73df34f-03e9-4381-bb58-465777f201a9",
   "metadata": {},
   "outputs": [
    {
     "data": {
      "image/png": "[encoded data removed]",
      "text/plain": [
       "<Figure size 640x480 with 1 Axes>"
      ]
     },
     "metadata": {},
     "output_type": "display_data"
    }
   ],
   "source": [
    "import matplotlib.pyplot as plt\n",
    "import numpy as np\n",
    "import json\n",
    "\n",
    "def load_array_from_file(filename):\n",
    "    with open(filename, 'r') as file:\n",
    "        array = json.load(file)\n",
    "    return array\n",
    "\n",
    "def visualize_array(array):\n",
    "    # Знайдемо максимальні, додатні та від'ємні елементи\n",
    "    max_values = sorted(set(array), reverse=True)[:4]\n",
    "    positive_values = [x for x in array if x > 0]\n",
    "    negative_values = [x for x in array if x < 0]\n",
    "\n",
    "    # Збережемо позначення індексів максимальних елементів для позначення на діаграмі\n",
    "    max_indices = [i for i, x in enumerate(array) if x in max_values]\n",
    "\n",
    "    # Візуалізація горизонтальної стовпчастої діаграми\n",
    "    colors = ['red' if x in max_values else 'cyan' if x > 0 else 'green' for x in array]\n",
    "    bars = plt.barh(range(len(array)), array, color=colors)\n",
    "\n",
    "    # Позначення максимальних елементів на діаграмі\n",
    "    for i in max_indices:\n",
    "        plt.text(array[i], i, str(array[i]), ha='left', va='center', color='black')\n",
    "\n",
    "    # Додавання легенди\n",
    "    legend_labels = ['Максимальні', 'Додатні', 'Від\\'ємні']\n",
    "    legend_colors = ['red', 'cyan', 'green']\n",
    "    legend_handles = [plt.Line2D([0], [0], marker='o', color='w', markerfacecolor=color, markersize=10) for color in legend_colors]\n",
    "    plt.legend(legend_handles, legend_labels, loc='upper right')\n",
    "\n",
    "    plt.xlabel('Значення')\n",
    "    plt.ylabel('Індекс')\n",
    "    plt.title('Стовпчаста горизонтальна діаграма масиву')\n",
    "    plt.show()\n",
    "\n",
    "# Приклад використання\n",
    "array_to_visualize = load_array_from_file('generated_array.json')\n",
    "visualize_array(array_to_visualize)\n",
    "\n",
    "\n"
   ]
  },
  {
   "cell_type": "code",
   "execution_count": null,
   "id": "1b964771-c614-4df1-a3da-a664f24c825f",
   "metadata": {},
   "outputs": [],
   "source": [
    "5. Порахувати номери позицій другого та третього максимальних елементів."
   ]
  },
  {
   "cell_type": "code",
   "execution_count": 9,
   "id": "f2d8fda8-e9b1-40b6-8ef8-d7f89867592a",
   "metadata": {},
   "outputs": [
    {
     "name": "stdout",
     "output_type": "stream",
     "text": [
      "Позиції другого максимального елемента: [39]\n",
      "Позиції третього максимального елемента: [33]\n"
     ]
    }
   ],
   "source": [
    "import json\n",
    "\n",
    "def find_positions_of_max(array, n):\n",
    "    # Сортуємо унікальні значення у спадаючому порядку\n",
    "    unique_values = sorted(set(array), reverse=True)\n",
    "\n",
    "    # Знаходимо позиції елементів\n",
    "    positions = [i for i, x in enumerate(array) if x == unique_values[n-1]]\n",
    "\n",
    "    return positions\n",
    "\n",
    "def load_array_from_file(filename):\n",
    "    with open(filename, 'r') as file:\n",
    "        array = json.load(file)\n",
    "    return array\n",
    "\n",
    "# Приклад використання\n",
    "array_to_search = load_array_from_file('generated_array.json')\n",
    "second_max_positions = find_positions_of_max(array_to_search, 2)\n",
    "third_max_positions = find_positions_of_max(array_to_search, 3)\n",
    "\n",
    "print(\"Позиції другого максимального елемента:\", second_max_positions)\n",
    "print(\"Позиції третього максимального елемента:\", third_max_positions)"
   ]
  },
  {
   "cell_type": "code",
   "execution_count": null,
   "id": "e0e7b410-1062-43af-83ef-bdab9cea84d6",
   "metadata": {},
   "outputs": [],
   "source": [
    "6. Порахувати кількість та суму елементів масиву, розташованих між другим та третім додатними\n",
    "елементами."
   ]
  },
  {
   "cell_type": "code",
   "execution_count": 18,
   "id": "12b683a2-77cc-4c68-908e-aadea43e656f",
   "metadata": {},
   "outputs": [
    {
     "name": "stdout",
     "output_type": "stream",
     "text": [
      "Кількість елементів між другим та третім додатними: 2\n",
      "Сума елементів між другим та третім додатними: -10\n"
     ]
    }
   ],
   "source": [
    "def count_and_sum_between_positives(array):\n",
    "    positive_positions = [i for i, x in enumerate(array) if x > 0]\n",
    "\n",
    "    if len(positive_positions) < 3:\n",
    "        print(\"Недостатньо додатніх елементів у масиві.\")\n",
    "        return None, None\n",
    "\n",
    "    second_positive_position = positive_positions[1]\n",
    "    third_positive_position = positive_positions[2]\n",
    "\n",
    "    elements_between_positives = array[second_positive_position+1:third_positive_position]\n",
    "    count_between_positives = len(elements_between_positives)\n",
    "    sum_between_positives = sum(elements_between_positives)\n",
    "\n",
    "    return count_between_positives, sum_between_positives\n",
    "\n",
    "# Тестовий масив на якому видно результат, міг би взяти і наш масив але на ньому зазвичай не видно \n",
    "array_to_process = [3, -5, 8, -2,-8, 15, 8, -3, 10, 6, -8, 12, 15, 20, -2, 7, 10, -5, 8, -15, -20, 25, 30, -2, 8, 12, 18, -22, 5, 10, 12, -8, 10, 15, 18, -3, 25, 30, -8, 12, 15, 18, -2, 8]\n",
    "count, total_sum = count_and_sum_between_positives(array_to_process)\n",
    "\n",
    "if count is not None and total_sum is not None:\n",
    "    print(\"Кількість елементів між другим та третім додатними:\", count)\n",
    "    print(\"Сума елементів між другим та третім додатними:\", total_sum)\n",
    "\n"
   ]
  },
  {
   "cell_type": "code",
   "execution_count": null,
   "id": "1c09667b-7559-4217-a74b-b2526c2f4af6",
   "metadata": {},
   "outputs": [],
   "source": [
    "7. Перетворити масив таким чином, щоб спочатку йшли всі додатні елементи, відсортовані за\n",
    "зростанням, потім всі інші елементи, відсортовані за збиванням. Вивести отриманий масив та його\n",
    "графічну діаграму на екран"
   ]
  },
  {
   "cell_type": "code",
   "execution_count": 20,
   "id": "9003a5aa-2414-48fb-86ed-d99584f51bc3",
   "metadata": {},
   "outputs": [
    {
     "data": {
      "image/png": "[encoded data removed]",
      "text/plain": [
       "<Figure size 1000x500 with 1 Axes>"
      ]
     },
     "metadata": {},
     "output_type": "display_data"
    },
    {
     "name": "stdout",
     "output_type": "stream",
     "text": [
      "Перетворений масив: [3, 6, 11, 12, 14, 15, 21, 22, 25, 27, 28, 43, 43, 47, 52, 61, 62, 69, 73, 73, 75, 81, 83, 91, 96, 98, -2, -12, -17, -19, -26, -41, -50, -50, -50, -54, -60, -61, -69, -70, -71, -71, -71, -78]\n"
     ]
    }
   ],
   "source": [
    "import matplotlib.pyplot as plt\n",
    "import json\n",
    "\n",
    "def load_array_from_file(filename):\n",
    "    with open(filename, 'r') as file:\n",
    "        array = json.load(file)\n",
    "    return array\n",
    "\n",
    "def transform_and_plot(array):\n",
    "    # Розділяємо елементи на додатні та інші\n",
    "    positive_elements = sorted([x for x in array if x > 0])\n",
    "    other_elements = sorted([x for x in array if x <= 0], reverse=True)\n",
    "\n",
    "    # Перетворюємо масив\n",
    "    transformed_array = positive_elements + other_elements\n",
    "\n",
    "    # Графічна діаграма\n",
    "    plt.figure(figsize=(10, 5))\n",
    "\n",
    "    plt.bar(range(len(transformed_array)), transformed_array, color=['blue' if x > 0 else 'red' for x in transformed_array])\n",
    "    plt.title(\"Перетворений масив\")\n",
    "    plt.xlabel(\"Індекс елемента\")\n",
    "    plt.ylabel(\"Значення\")\n",
    "\n",
    "    # Виводимо графічну діаграму\n",
    "    plt.show()\n",
    "\n",
    "    return transformed_array\n",
    "\n",
    "# Приклад використання\n",
    "original_array = load_array_from_file('generated_array.json')\n",
    "\n",
    "transformed_array = transform_and_plot(original_array)\n",
    "print(\"Перетворений масив:\", transformed_array)\n"
   ]
  }
 ],
 "metadata": {
  "kernelspec": {
   "display_name": "Python 3 (ipykernel)",
   "language": "python",
   "name": "python3"
  },
  "language_info": {
   "codemirror_mode": {
    "name": "ipython",
    "version": 3
   },
   "file_extension": ".py",
   "mimetype": "text/x-python",
   "name": "python",
   "nbconvert_exporter": "python",
   "pygments_lexer": "ipython3",
   "version": "3.9.13"
  }
 },
 "nbformat": 4,
 "nbformat_minor": 5
}
